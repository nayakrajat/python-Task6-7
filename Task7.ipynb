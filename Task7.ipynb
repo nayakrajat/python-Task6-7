{
 "cells": [
  {
   "cell_type": "code",
   "execution_count": null,
   "metadata": {},
   "outputs": [],
   "source": [
    "#Other inbuilt methods for sets"
   ]
  },
  {
   "cell_type": "code",
   "execution_count": 2,
   "metadata": {},
   "outputs": [
    {
     "data": {
      "text/plain": [
       "{1, 2, 3, 4}"
      ]
     },
     "execution_count": 2,
     "metadata": {},
     "output_type": "execute_result"
    }
   ],
   "source": [
    "#1 difference()\n",
    "#1.1Returns a set containing the difference between two or more sets\n",
    "set1={1,2,3,4,5}\n",
    "set2={10,20,30,40,5}\n",
    "set3=set1.difference(set2)\n",
    "set3"
   ]
  },
  {
   "cell_type": "code",
   "execution_count": 3,
   "metadata": {},
   "outputs": [
    {
     "data": {
      "text/plain": [
       "{'Airtel', 'BSNL', 'Idea', 'Vodafone'}"
      ]
     },
     "execution_count": 3,
     "metadata": {},
     "output_type": "execute_result"
    }
   ],
   "source": [
    "#1.2\n",
    "x={\"Jio\",\"Airtel\",\"BSNL\",\"Idea\",\"Vodafone\"}\n",
    "y={\"Asus\",\"Samsung\",\"Apple\",\"Jio\"}\n",
    "z=x.difference(y)\n",
    "z"
   ]
  },
  {
   "cell_type": "code",
   "execution_count": 4,
   "metadata": {},
   "outputs": [
    {
     "data": {
      "text/plain": [
       "{'Apple', 'Asus', 'Samsung'}"
      ]
     },
     "execution_count": 4,
     "metadata": {},
     "output_type": "execute_result"
    }
   ],
   "source": [
    "#1.3\n",
    "z=y.difference(x)\n",
    "z"
   ]
  },
  {
   "cell_type": "code",
   "execution_count": 6,
   "metadata": {},
   "outputs": [
    {
     "data": {
      "text/plain": [
       "{'Airtel', 'BSNL', 'Idea', 'Jio', 'Vodafone'}"
      ]
     },
     "execution_count": 6,
     "metadata": {},
     "output_type": "execute_result"
    }
   ],
   "source": [
    "x"
   ]
  },
  {
   "cell_type": "code",
   "execution_count": 7,
   "metadata": {},
   "outputs": [
    {
     "data": {
      "text/plain": [
       "{'Apple', 'Asus', 'Jio', 'Samsung'}"
      ]
     },
     "execution_count": 7,
     "metadata": {},
     "output_type": "execute_result"
    }
   ],
   "source": [
    "y"
   ]
  },
  {
   "cell_type": "code",
   "execution_count": 8,
   "metadata": {},
   "outputs": [
    {
     "data": {
      "text/plain": [
       "{'Airtel', 'Apple', 'Asus', 'BSNL', 'Idea', 'Samsung', 'Vodafone'}"
      ]
     },
     "execution_count": 8,
     "metadata": {},
     "output_type": "execute_result"
    }
   ],
   "source": [
    "#2 symmetric_Difference()\n",
    "#2.1 Returns a set with the symmetric differences of two sets\n",
    "z=x.symmetric_difference(y)\n",
    "z"
   ]
  },
  {
   "cell_type": "code",
   "execution_count": 9,
   "metadata": {},
   "outputs": [
    {
     "name": "stdout",
     "output_type": "stream",
     "text": [
      "{1, 2, 3, 4, 5} {5, 40, 10, 20, 30}\n"
     ]
    }
   ],
   "source": [
    "print(set1,set2)"
   ]
  },
  {
   "cell_type": "code",
   "execution_count": 11,
   "metadata": {},
   "outputs": [
    {
     "data": {
      "text/plain": [
       "{1, 2, 3, 4, 10, 20, 30, 40}"
      ]
     },
     "execution_count": 11,
     "metadata": {},
     "output_type": "execute_result"
    }
   ],
   "source": [
    "#2.2\n",
    "set3=set1.symmetric_difference(set2)\n",
    "set3"
   ]
  },
  {
   "cell_type": "code",
   "execution_count": 12,
   "metadata": {},
   "outputs": [
    {
     "data": {
      "text/plain": [
       "{'Airtel', 'Apple', 'Asus', 'BSNL', 'Idea', 'Samsung', 'Vodafone'}"
      ]
     },
     "execution_count": 12,
     "metadata": {},
     "output_type": "execute_result"
    }
   ],
   "source": [
    "z=y.symmetric_difference(x)\n",
    "z"
   ]
  },
  {
   "cell_type": "code",
   "execution_count": 13,
   "metadata": {},
   "outputs": [
    {
     "name": "stdout",
     "output_type": "stream",
     "text": [
      "{1, 2, 3, 4, 5} {5, 40, 10, 20, 30}\n"
     ]
    }
   ],
   "source": [
    "#3 difference_update()\n",
    "#3.1 Removes the items in this set that are also included in another, specified set\n",
    "print(set1,set2)"
   ]
  },
  {
   "cell_type": "code",
   "execution_count": 16,
   "metadata": {},
   "outputs": [
    {
     "data": {
      "text/plain": [
       "{1, 2, 3, 4}"
      ]
     },
     "execution_count": 16,
     "metadata": {},
     "output_type": "execute_result"
    }
   ],
   "source": [
    "set1.difference_update(set2)\n",
    "set1"
   ]
  },
  {
   "cell_type": "code",
   "execution_count": 17,
   "metadata": {},
   "outputs": [
    {
     "name": "stdout",
     "output_type": "stream",
     "text": [
      "{'BSNL', 'Vodafone', 'Idea', 'Airtel', 'Jio'} {'Samsung', 'Apple', 'Asus', 'Jio'}\n"
     ]
    }
   ],
   "source": [
    "#3.2\n",
    "print(x,y)"
   ]
  },
  {
   "cell_type": "code",
   "execution_count": 18,
   "metadata": {},
   "outputs": [
    {
     "data": {
      "text/plain": [
       "{'Airtel', 'BSNL', 'Idea', 'Vodafone'}"
      ]
     },
     "execution_count": 18,
     "metadata": {},
     "output_type": "execute_result"
    }
   ],
   "source": [
    "x.difference_update(y)\n",
    "x"
   ]
  },
  {
   "cell_type": "code",
   "execution_count": 20,
   "metadata": {},
   "outputs": [
    {
     "name": "stdout",
     "output_type": "stream",
     "text": [
      "{'BSNL', 'Vodafone', 'Idea', 'Airtel', 'Jio'} {'Samsung', 'Apple', 'Asus', 'Jio'}\n"
     ]
    }
   ],
   "source": [
    "#4 symmetric_difference_update()\n",
    "#4.1 Inserts the symmetric differences from this set and another\n",
    "x={\"Jio\",\"Airtel\",\"BSNL\",\"Idea\",\"Vodafone\"}\n",
    "y={\"Asus\",\"Samsung\",\"Apple\",\"Jio\"}\n",
    "print(x,y)"
   ]
  },
  {
   "cell_type": "code",
   "execution_count": 21,
   "metadata": {},
   "outputs": [
    {
     "data": {
      "text/plain": [
       "{'Airtel', 'Apple', 'Asus', 'BSNL', 'Idea', 'Samsung', 'Vodafone'}"
      ]
     },
     "execution_count": 21,
     "metadata": {},
     "output_type": "execute_result"
    }
   ],
   "source": [
    "x.symmetric_difference_update(y)\n",
    "x"
   ]
  },
  {
   "cell_type": "code",
   "execution_count": 26,
   "metadata": {},
   "outputs": [
    {
     "name": "stdout",
     "output_type": "stream",
     "text": [
      "{1, 2, 3, 4, 5} {5, 40, 10, 20, 30}\n"
     ]
    }
   ],
   "source": [
    "#4.2\n",
    "set1={1,2,3,4,5}\n",
    "set2={10,20,30,40,5}\n",
    "print(set1,set2)"
   ]
  },
  {
   "cell_type": "code",
   "execution_count": 27,
   "metadata": {},
   "outputs": [
    {
     "data": {
      "text/plain": [
       "{1, 2, 3, 4, 10, 20, 30, 40}"
      ]
     },
     "execution_count": 27,
     "metadata": {},
     "output_type": "execute_result"
    }
   ],
   "source": [
    "set1.symmetric_difference_update(set2)\n",
    "set1"
   ]
  },
  {
   "cell_type": "code",
   "execution_count": 3,
   "metadata": {},
   "outputs": [],
   "source": [
    "set1={1,2,3,4,5}\n",
    "set2={10,20,30,40,5}\n",
    "x={\"Jio\",\"Airtel\",\"BSNL\",\"Idea\",\"Vodafone\"}\n",
    "y={\"Asus\",\"Samsung\",\"Apple\",\"Jio\"}"
   ]
  },
  {
   "cell_type": "code",
   "execution_count": 6,
   "metadata": {},
   "outputs": [],
   "source": [
    "#5 intersection_update()\n",
    "#5.1 Removes the items in this set that are not present in other, specified set"
   ]
  },
  {
   "cell_type": "code",
   "execution_count": 9,
   "metadata": {},
   "outputs": [
    {
     "data": {
      "text/plain": [
       "{'Jio'}"
      ]
     },
     "execution_count": 9,
     "metadata": {},
     "output_type": "execute_result"
    }
   ],
   "source": [
    "x.intersection_update(y)\n",
    "x# x set get updated"
   ]
  },
  {
   "cell_type": "code",
   "execution_count": 10,
   "metadata": {},
   "outputs": [
    {
     "data": {
      "text/plain": [
       "{'Apple', 'Asus', 'Jio', 'Samsung'}"
      ]
     },
     "execution_count": 10,
     "metadata": {},
     "output_type": "execute_result"
    }
   ],
   "source": [
    "y #y set remains same"
   ]
  },
  {
   "cell_type": "code",
   "execution_count": 12,
   "metadata": {},
   "outputs": [
    {
     "data": {
      "text/plain": [
       "{5}"
      ]
     },
     "execution_count": 12,
     "metadata": {},
     "output_type": "execute_result"
    }
   ],
   "source": [
    "#5.2\n",
    "set1.intersection_update(set2)\n",
    "set1# Set1 gets updaed"
   ]
  },
  {
   "cell_type": "code",
   "execution_count": 13,
   "metadata": {},
   "outputs": [
    {
     "data": {
      "text/plain": [
       "{5, 10, 20, 30, 40}"
      ]
     },
     "execution_count": 13,
     "metadata": {},
     "output_type": "execute_result"
    }
   ],
   "source": [
    "set2 #set2 remains same"
   ]
  },
  {
   "cell_type": "code",
   "execution_count": 14,
   "metadata": {},
   "outputs": [],
   "source": [
    "#6 isdisjoint()\n",
    "# Returns True if none of the items are present in both sets, otherwise it returns False\n",
    "set1={1,2,3,4,5}\n",
    "set2={10,20,30,40,5}\n",
    "x={\"Jio\",\"Airtel\",\"BSNL\",\"Idea\",\"Vodafone\"}\n",
    "y={\"Asus\",\"Samsung\",\"Apple\",\"Jio\"}"
   ]
  },
  {
   "cell_type": "code",
   "execution_count": 16,
   "metadata": {},
   "outputs": [
    {
     "data": {
      "text/plain": [
       "False"
      ]
     },
     "execution_count": 16,
     "metadata": {},
     "output_type": "execute_result"
    }
   ],
   "source": [
    "#6.11 Returns false\n",
    "x.isdisjoint(y) #Jio is present in both set x and y"
   ]
  },
  {
   "cell_type": "code",
   "execution_count": 17,
   "metadata": {},
   "outputs": [
    {
     "data": {
      "text/plain": [
       "False"
      ]
     },
     "execution_count": 17,
     "metadata": {},
     "output_type": "execute_result"
    }
   ],
   "source": [
    "#6.2 Returns false\n",
    "set1.isdisjoint(set2) # 5  is present in both set1 and set2"
   ]
  },
  {
   "cell_type": "code",
   "execution_count": 18,
   "metadata": {},
   "outputs": [],
   "source": [
    "set1={1,2,3,4,5}\n",
    "set2={10,20,30,40}\n",
    "x={\"Jio\",\"Airtel\",\"BSNL\",\"Idea\",\"Vodafone\"}\n",
    "y={\"Asus\",\"Samsung\",\"Apple\"}"
   ]
  },
  {
   "cell_type": "code",
   "execution_count": 19,
   "metadata": {},
   "outputs": [
    {
     "data": {
      "text/plain": [
       "True"
      ]
     },
     "execution_count": 19,
     "metadata": {},
     "output_type": "execute_result"
    }
   ],
   "source": [
    "#6.12 Returns true\n",
    "x.isdisjoint(y) # Elements of sets are identical"
   ]
  },
  {
   "cell_type": "code",
   "execution_count": 20,
   "metadata": {},
   "outputs": [
    {
     "data": {
      "text/plain": [
       "True"
      ]
     },
     "execution_count": 20,
     "metadata": {},
     "output_type": "execute_result"
    }
   ],
   "source": [
    "#6.22\n",
    "set1.isdisjoint(set2) #Elements of sets are identical"
   ]
  },
  {
   "cell_type": "code",
   "execution_count": 21,
   "metadata": {},
   "outputs": [],
   "source": [
    "#7 issubset()\n",
    "# Returns whether another set contains this set or not\n",
    "set1={1,4,10,11,13,14,2,3,6,5,\"Jio\",\"Airtel\",\"BSNL\",\"Idea\",\"Vodafone\",\"Asus\",\"Samsung\",\"Apple\"}\n",
    "set2={1,2,3,4,5}\n",
    "set3={\"Asus\",\"Samsung\",\"Jio\",\"Airtel\"}"
   ]
  },
  {
   "cell_type": "code",
   "execution_count": 22,
   "metadata": {},
   "outputs": [
    {
     "data": {
      "text/plain": [
       "True"
      ]
     },
     "execution_count": 22,
     "metadata": {},
     "output_type": "execute_result"
    }
   ],
   "source": [
    "#7.1\n",
    "set2.issubset(set1) #set2 is subset of set1 (Returns True only when all the elements in the set 2 should be present in set1)"
   ]
  },
  {
   "cell_type": "code",
   "execution_count": 31,
   "metadata": {},
   "outputs": [],
   "source": [
    "#7.2\n",
    "set3.issubset(set1) #set3 is sub set of set1 (Returns True only when all the elements in the set 3 should be present in set1)"
   ]
  },
  {
   "cell_type": "code",
   "execution_count": 29,
   "metadata": {},
   "outputs": [],
   "source": [
    "set2={45,55,66,77}\n",
    "set3={\"Microsoft\",\"HP\",\"Dell\",\"Jio\"}"
   ]
  },
  {
   "cell_type": "code",
   "execution_count": 25,
   "metadata": {},
   "outputs": [
    {
     "data": {
      "text/plain": [
       "False"
      ]
     },
     "execution_count": 25,
     "metadata": {},
     "output_type": "execute_result"
    }
   ],
   "source": [
    "#7.3set2.issubset(set1) #set2 is not subset of set1"
   ]
  },
  {
   "cell_type": "code",
   "execution_count": 32,
   "metadata": {},
   "outputs": [
    {
     "data": {
      "text/plain": [
       "False"
      ]
     },
     "execution_count": 32,
     "metadata": {},
     "output_type": "execute_result"
    }
   ],
   "source": [
    "#7.4\n",
    "set3.issubset(set1) #set3 is not subset of set1"
   ]
  }
 ],
 "metadata": {
  "kernelspec": {
   "display_name": "Python 3",
   "language": "python",
   "name": "python3"
  },
  "language_info": {
   "codemirror_mode": {
    "name": "ipython",
    "version": 3
   },
   "file_extension": ".py",
   "mimetype": "text/x-python",
   "name": "python",
   "nbconvert_exporter": "python",
   "pygments_lexer": "ipython3",
   "version": "3.8.3"
  }
 },
 "nbformat": 4,
 "nbformat_minor": 4
}
